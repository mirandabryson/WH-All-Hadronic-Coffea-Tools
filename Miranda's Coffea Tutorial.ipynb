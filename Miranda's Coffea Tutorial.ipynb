{
 "cells": [
  {
   "cell_type": "markdown",
   "metadata": {},
   "source": [
    "# Hello and Welcome to the Ride of a Lifetime\n",
    "This, my dear friends, will be the single most important thing that will ever happen to you ever. I am about to walk you through the most intricate code you have ever seen before. So buckle up, kiddo. We're on a highway to hell. \\*cue music\\* (https://www.youtube.com/watch?v=l482T0yNkeo&ab_channel=acdcVEVO)"
   ]
  },
  {
   "cell_type": "markdown",
   "metadata": {},
   "source": [
    "## First, let's load some things"
   ]
  },
  {
   "cell_type": "code",
   "execution_count": 1,
   "metadata": {},
   "outputs": [],
   "source": [
    "import os\n",
    "import time\n",
    "import glob\n",
    "import re\n",
    "from functools import reduce\n",
    "import numpy as np\n",
    "import uproot\n",
    "import uproot_methods\n",
    "import awkward\n",
    "import pandas as pd\n",
    "from klepto.archives import dir_archive\n",
    "\n",
    "\n",
    "import coffea.processor as processor\n",
    "from coffea.processor.accumulator import AccumulatorABC\n",
    "from coffea import hist\n",
    "from coffea.analysis_objects import JaggedCandidateArray\n",
    "\n",
    "%matplotlib inline\n",
    "import matplotlib.pyplot as plt\n",
    "\n"
   ]
  },
  {
   "cell_type": "markdown",
   "metadata": {},
   "source": [
    "## Perfect, you're doing great sweaty.  Now, let's move on to the hard part. \n",
    "Now we are going to build a processor. A processor is very neat. In a processor, I can tell it to take some data, manipulate it in some way and save that manipulation into a histogram all without a for loop, yay! Let's get into it. "
   ]
  },
  {
   "cell_type": "code",
   "execution_count": 2,
   "metadata": {},
   "outputs": [],
   "source": [
    "#Let's define our processor first. \n",
    "\n",
    "class WHhadProcessor(processor.ProcessorABC):\n",
    "    def __init__(self):\n",
    "        \n",
    "        #Great, now let's define some bins for our histograms.\n",
    "        \n",
    "        dataset_axis         = hist.Cat(\"dataset\", \"Primary dataset\")\n",
    "        pt_axis              = hist.Bin(\"pt\", r\"$p_{T}$ (GeV)\", 500, 0, 2000)\n",
    "        multiplicity_axis    = hist.Bin(\"multiplicity\", r\"N\", 30, -0.5, 29.5)\n",
    "\n",
    "        #In order to create proper histograms, we always need to include a dataset axis!\n",
    "        #For different types of histograms with different scales, I create axis to fit \n",
    "        #those dimensions!\n",
    "        \n",
    "        #Now, let's move to actually telling our processor what histograms we want to make.\n",
    "        #Let's start out simple. \n",
    "        self._accumulator = processor.dict_accumulator({\n",
    "            \"met\":                          hist.Hist(\"Counts\", dataset_axis, pt_axis),\n",
    "            \"ht\":                           hist.Hist(\"Counts\", dataset_axis, pt_axis),\n",
    "            \"njets\":                        hist.Hist(\"Counts\", dataset_axis, multiplicity_axis),\n",
    "            \"bjets\":                        hist.Hist(\"Counts\", dataset_axis, multiplicity_axis),            \n",
    "        })\n",
    "\n",
    "    #Make sure to plug in the dataset axis and the properly binned axis you created above.\n",
    "    #Cool. Now let's define some properties of the processor.\n",
    "    \n",
    "    @property\n",
    "    \n",
    "    #First is this guy. He does important things so always include him. \n",
    "    def accumulator(self):\n",
    "        return self._accumulator\n",
    "\n",
    "    #Now comes the fun part. Here's where we tell our processor exactly what to do with the data.\n",
    "    def process(self, df):\n",
    "     \n",
    "        #Make sure to declare your output, which stores everything you put into the histograms.\n",
    "        output = self.accumulator.identity()\n",
    "        \n",
    "        #Load your data for the dataset axis.\n",
    "        dataset = df['dataset']\n",
    "\n",
    "        #Let's define some variables from our dataset, starting with MET.\n",
    "        metphi = df[\"MET_phi\"]\n",
    "        metpt = df[\"MET_pt\"]\n",
    "        #Here, I'm simply calling those nanoaod branches from the samples\n",
    "        #and storing them under easy to access variable names. \n",
    "        \n",
    "      \n",
    "        \n",
    "        #Let's define some 4 vector objects. For these I can call the branches whatever \n",
    "        #I want. Just make sure to include the .content at the end. Also, by making these\n",
    "        #objects, we can call the branches in a pretty easy way. Shown below.\n",
    "        \n",
    "        #Leptons\n",
    "        electrons = JaggedCandidateArray.candidatesfromcounts(\n",
    "            df['nElectron'],\n",
    "            pt=df['Electron_pt'].content, \n",
    "            eta=df['Electron_eta'].content, \n",
    "            phi=df['Electron_phi'].content,\n",
    "            mass=df['Electron_mass'].content,\n",
    "            pdgid=df['Electron_pdgId'].content,\n",
    "            mini_iso=df['Electron_miniPFRelIso_all'].content\n",
    "        )\n",
    "        \n",
    "\n",
    "        muons = JaggedCandidateArray.candidatesfromcounts(\n",
    "            df['nMuon'],\n",
    "            pt=df['Muon_pt'].content, \n",
    "            eta=df['Muon_eta'].content, \n",
    "            phi=df['Muon_phi'].content,\n",
    "            mass=df['Muon_mass'].content,\n",
    "            pdgid=df['Muon_pdgId'].content,\n",
    "            mini_iso=df['Muon_miniPFRelIso_all'].content, \n",
    "            looseid =df['Muon_looseId'].content\n",
    "        )\n",
    "        \n",
    "        taus = JaggedCandidateArray.candidatesfromcounts(\n",
    "            df['nTau'],\n",
    "            pt=df['Tau_pt'].content, \n",
    "            eta=df['Tau_eta'].content, \n",
    "            phi=df['Tau_phi'].content,\n",
    "            mass=df['Tau_mass'].content,\n",
    "            decaymode=df['Tau_idDecayMode'].content,\n",
    "            newid=df['Tau_idMVAnewDM2017v2'].content,\n",
    "        )\n",
    "        \n",
    "        #Here, since I don't have enough information to form a 4 vector with isotracks,\n",
    "        #I just use the JaggedArray format. I call branches in the same way as the\n",
    "        #JaggedCandidateArray, but I can't use some of the manipulations that come with the\n",
    "        #JCA format. :(\n",
    "        isotracks = awkward.JaggedArray.zip(\n",
    "            pt=df['IsoTrack_pt'], \n",
    "            eta=df['IsoTrack_eta'], \n",
    "            phi=df['IsoTrack_phi'], \n",
    "            rel_iso=df['IsoTrack_pfRelIso03_all'], \n",
    "        )\n",
    "        \n",
    "        #Jets\n",
    "        jets = JaggedCandidateArray.candidatesfromcounts(\n",
    "            df['nJet'],\n",
    "            pt=df['Jet_pt'].content, \n",
    "            eta=df['Jet_eta'].content, \n",
    "            phi=df['Jet_phi'].content,\n",
    "            btag=df['Jet_btagDeepB'].content, \n",
    "            jetid=df['Jet_jetId'].content, \n",
    "            mass=df['Jet_mass'].content,\n",
    "        )\n",
    "        fatjets = JaggedCandidateArray.candidatesfromcounts(\n",
    "            df['nFatJet'],\n",
    "            pt=df['FatJet_pt'].content, \n",
    "            eta=df['FatJet_eta'].content, \n",
    "            phi=df['FatJet_phi'].content, \n",
    "            mass=df['FatJet_mass'].content, \n",
    "            softdrop=df[\"FatJet_msoftdrop\"].content,  \n",
    "            fromH = df['FatJet_deepTagMD_HbbvsQCD'].content, \n",
    "            fromW_MD = df['FatJet_deepTagMD_WvsQCD'].content, \n",
    "            fromW_MC = df['FatJet_deepTag_WvsQCD'].content\n",
    "        )\n",
    "        \n",
    "        #Now let's deal with some good ol' ak4's baby. Let's define a \"good jet\".\n",
    "        #First, let's define what a good jet should be. Notice how I'm calling the branches\n",
    "        #of the jets. Super easy, right?\n",
    "        goodjcut = ((jets.pt>30) & (abs(jets.eta)<2.4) & (jets.jetid>0))\n",
    "        #Perfect, now let's apply this selection to the ak4's and create a new object.\n",
    "        goodjets = jets[goodjcut]\n",
    "        #LIT. Okay, now I want the number of good jets. \n",
    "        njets = goodjets.counts\n",
    "        #Bro, you are on fire. Good job. I'm proud of you and really appreciate you.\n",
    "\n",
    "      \n",
    "\n",
    "        #Let's make some b-jets and find the number of b-jets.\n",
    "        bjcut = ((jets.pt>30) & (abs(jets.eta)<2.4) & (jets.jetid>0) & (jets.btag>0.4184))\n",
    "        bjets = jets[bjcut]\n",
    "        nbjets = bjets.counts\n",
    "        #Hell yeah. \n",
    "        \n",
    "        #Let's go for HT now. \n",
    "        ht = goodjets.pt.sum()\n",
    "        #Remember to put that () after the sum!\n",
    "\n",
    "  \n",
    "       \n",
    "       \n",
    "        #Let's define lepton vetos using the same method.\n",
    "        \n",
    "        veto_e_cut = (electrons.pt>5) & (abs(electrons.eta) < 2.4) & (electrons.mini_iso < 0.2)\n",
    "        veto_e = electrons[veto_e_cut]\n",
    "        \n",
    "        veto_m_cut = (muons.pt > 5) & (abs(muons.eta) < 2.4) & (muons.looseid) & (muons.mini_iso < 0.2)\n",
    "        veto_m = muons[veto_m_cut]\n",
    "        \n",
    "        veto_t_cut = (taus.pt > 20) & (abs(taus.eta) < 2.4) & (taus.decaymode) & (taus.newid >= 8)\n",
    "        veto_t = taus[veto_t_cut]\n",
    "        \n",
    "        veto_it_cut = (isotracks.pt > 10) & (abs(isotracks.eta) < 2.4) & ((isotracks.rel_iso < (0.1*isotracks.pt)) | (isotracks.rel_iso < 6))\n",
    "        veto_it = isotracks[veto_it_cut]\n",
    "        \n",
    "       \n",
    "       \n",
    "        #Now it's time to make some selections. I'm going to guess that you can follow\n",
    "        #what I'm doing from here. \n",
    "\n",
    "        ht_ps = (ht > 300)\n",
    "        met_ps = (metpt>400)\n",
    "        njet_ps = (njets >= 2)\n",
    "        bjet_ps = (nbjets >= 1)\n",
    "\n",
    "\n",
    "        e_sel = (veto_e.counts == 0)\n",
    "        m_sel = (veto_m.counts == 0)\n",
    "        it_sel = (veto_it.counts == 0)\n",
    "        t_sel = (veto_t.counts == 0)\n",
    "        l_sel = e_sel & m_sel & it_sel & t_sel\n",
    "\n",
    "        \n",
    "        sel = ht_ps & met_ps & njet_ps & bjet_ps & l_sel \n",
    "      \n",
    "    \n",
    "        #Let's make sure we weight our events properly with the proper selection too.\n",
    "        wght = df['weight'][sel]*137\n",
    " \n",
    "        \n",
    "        \n",
    "        #Let's fill some histograms. \n",
    "        output['met'].fill(dataset=dataset, pt=metpt[sel].flatten(), weight=wght)\n",
    "        output['ht'].fill(dataset=dataset, pt=ht[sel].flatten(), weight=wght)\n",
    "        output['njets'].fill(dataset=dataset, multiplicity=njets[sel].flatten(), weight=wght)\n",
    "        output['bjets'].fill(dataset=dataset, multiplicity=nbjets[sel].flatten(), weight=wght)        \n",
    "        #Notice I have put .flatten() next to the data I'm inputting. This makes my\n",
    "        #data arrays the appropriate format to input into histograms. \n",
    "        \n",
    "        #Return that output, hunty!\n",
    "        return output\n",
    "\n",
    "    #Remember this bad boy and we're done with this block of code!\n",
    "    \n",
    "    def postprocess(self, accumulator):\n",
    "        return accumulator\n",
    "        "
   ]
  },
  {
   "cell_type": "markdown",
   "metadata": {},
   "source": [
    "# Awesome! Now's it's smooth sailing from here. \n",
    "Let's put in some data now and run our processor! "
   ]
  },
  {
   "cell_type": "code",
   "execution_count": 3,
   "metadata": {
    "scrolled": false
   },
   "outputs": [
    {
     "data": {
      "application/vnd.jupyter.widget-view+json": {
       "model_id": "6908ea8d48214fc399605e52b3998764",
       "version_major": 2,
       "version_minor": 0
      },
      "text/plain": [
       "HBox(children=(FloatProgress(value=0.0, description='Preprocessing', max=40.0, style=ProgressStyle(description…"
      ]
     },
     "metadata": {},
     "output_type": "display_data"
    },
    {
     "name": "stdout",
     "output_type": "stream",
     "text": [
      "\n"
     ]
    },
    {
     "data": {
      "application/vnd.jupyter.widget-view+json": {
       "model_id": "41600cd289bd4be2b5ee17158ec3ad0f",
       "version_major": 2,
       "version_minor": 0
      },
      "text/plain": [
       "HBox(children=(FloatProgress(value=0.0, description='Processing', max=40.0, style=ProgressStyle(description_wi…"
      ]
     },
     "metadata": {},
     "output_type": "display_data"
    },
    {
     "name": "stdout",
     "output_type": "stream",
     "text": [
      "\n"
     ]
    },
    {
     "data": {
      "application/vnd.jupyter.widget-view+json": {
       "model_id": "86a02ec362b94782a9c46ccb8b503396",
       "version_major": 2,
       "version_minor": 0
      },
      "text/plain": [
       "HBox(children=(FloatProgress(value=0.0, description='Preprocessing', max=354.0, style=ProgressStyle(descriptio…"
      ]
     },
     "metadata": {},
     "output_type": "display_data"
    },
    {
     "name": "stdout",
     "output_type": "stream",
     "text": [
      "\n"
     ]
    },
    {
     "data": {
      "application/vnd.jupyter.widget-view+json": {
       "model_id": "4adccfa6caf54a08955bba8fa5f4104c",
       "version_major": 2,
       "version_minor": 0
      },
      "text/plain": [
       "HBox(children=(FloatProgress(value=0.0, description='Processing', max=354.0, style=ProgressStyle(description_w…"
      ]
     },
     "metadata": {},
     "output_type": "display_data"
    },
    {
     "name": "stdout",
     "output_type": "stream",
     "text": [
      "\n"
     ]
    }
   ],
   "source": [
    "fileset   = {'mC750_l1': glob.glob('/hadoop/cms/store/user/ksalyer/allHadTest/0p1p16/2018/WH_had_750_1_nanoAOD/*.root'),\n",
    "            'WJets': glob.glob('/hadoop/cms/store/user/ksalyer/allHadTest/0p1p16/2018/WJetsToLNu*/*.root'),\n",
    "            'QCD': glob.glob('/hadoop/cms/store/user/ksalyer/allHadTest/0p1p16/2018/QCD_HT*/*.root'),\n",
    "            'TTJets': glob.glob('/hadoop/cms/store/user/ksalyer/allHadTest/0p1p16/2018/TTJets*/*.root'),\n",
    "            'ZNuNu': glob.glob('/hadoop/cms/store/user/ksalyer/allHadTest/0p1p16/2018/ZJetsToNuNu*/*.root'),\n",
    "            'ST':glob.glob('/hadoop/cms/store/user/ksalyer/allHadTest/0p1p16/2018/ST*/*.root'),\n",
    "            'ttW/ttZ':glob.glob('/hadoop/cms/store/user/ksalyer/allHadTest/0p1p16/2018/ttWJets*/*.root')\n",
    "                +glob.glob('/hadoop/cms/store/user/ksalyer/allHadTest/0p1p16/2018/ttZJets*/*.root'),\n",
    "            'WW/WZ/ZZ':glob.glob('/hadoop/cms/store/user/ksalyer/allHadTest/0p1p16/2018/WW*/*.root')\n",
    "                +glob.glob('/hadoop/cms/store/user/ksalyer/allHadTest/0p1p16/2018/WZ*/*.root')\n",
    "                +glob.glob('/hadoop/cms/store/user/ksalyer/allHadTest/0p1p16/2018/ZZTo2L2Nu*/*.root')\n",
    "                +glob.glob('/hadoop/cms/store/user/ksalyer/allHadTest/0p1p16/2018/ZZTo2Q2Nu*/*.root')\n",
    "                }\n",
    "\n",
    "#Here, I've separated by data from my background. This lets me change the style of the\n",
    "#signal line and keep the background consistent. \n",
    "\n",
    "output = processor.run_uproot_job(fileset,\n",
    "                                    treename='Events',\n",
    "                                    processor_instance=WHhadProcessor(),\n",
    "                                    executor=processor.futures_executor,\n",
    "                                    executor_args={'workers': 24, 'function_args': {'flatten': False}},\n",
    "                                    chunksize=500000,\n",
    "                                 )\n",
    "\n",
    "#Here, we have the ability to change the 'workers' and 'chunksize', but to be honest,\n",
    "#it does not make that much of a difference unless you want to see your progress bar \n",
    "#get updates more or less often. Totally a person choice. "
   ]
  },
  {
   "cell_type": "markdown",
   "metadata": {},
   "source": [
    "# Time to make some pretty ass histograms uwu!!"
   ]
  },
  {
   "cell_type": "code",
   "execution_count": 4,
   "metadata": {},
   "outputs": [],
   "source": [
    "#Here's a block to help you make some pretty histos. This deals solely with style.\n",
    "#These first two variables define my signal line as red and defines the error bar style I want!\n",
    "lineopts = {\n",
    "    'color': 'r',\n",
    "}\n",
    "\n",
    "data_err_opts = {\n",
    "    'linestyle': 'none',\n",
    "    'marker': '_',\n",
    "    'markersize': 10.,\n",
    "    'color': 'r',\n",
    "    'elinewidth': 1,\n",
    "}\n",
    "\n",
    "#Now, let's go to background. I define the line and fill color for the background because\n",
    "#I want it to be a different style from my signal. \n",
    "\n",
    "lineopts2 = {\n",
    "    'color': [('#1467cc'), ('#51d673') ,('#f7d969'), ('#af84f0'), ('#4f842e'), ('#1ff4ff'),('#3612ab')],\n",
    "}\n",
    "fillopts1 = {\n",
    "    'edgecolor': (0,0,0,0.3),\n",
    "    'facecolor': [('#1467cc'), ('#51d673') ,('#f7d969'), ('#af84f0'), ('#4f842e'), ('#1ff4ff'),('#3612ab')],\n",
    "}\n",
    "\n",
    "#Here are two special functions I wrote to help you easily print histos to your output\n",
    "#directory. All you need to input is the signal and background histograms, the output\n",
    "#directory and the name of the histogram. \n",
    "\n",
    "def savefig(hists, outdir, name):\n",
    "    import re\n",
    "    bkgonly = re.compile('(?!mC750_l1)')\n",
    "    ax = hist.plot1d(hists[bkgonly], overlay=\"dataset\", density=False, stack=True, \n",
    "                fill_opts = fillopts1, overflow = 'over')\n",
    "    hist.plot1d(hists['mC750_l1'], overlay=\"dataset\", density=False, stack=False, \n",
    "                error_opts=data_err_opts, overflow = 'over') \n",
    "    ax.set_yscale('log')\n",
    "    ax.set_ylim(0.001,1000000)\n",
    "    ax.figure.savefig(os.path.join(outdir, \"{}_log.png\".format(name)))\n",
    "    ax.clear()\n",
    "\n",
    "def savefigshape(hists, outdir, name):\n",
    "    ax = hist.plot1d(hists, overlay=\"dataset\", density=True, stack=False, \n",
    "                line_opts = lineopts2, overflow = 'over')\n",
    "    \n",
    "    ax.set_yscale('log')\n",
    "    ax.set_ylim(0.00001,10)\n",
    "    ax.figure.savefig(os.path.join(outdir, \"{}_shape_log.png\".format(name)))\n",
    "    ax.clear()"
   ]
  },
  {
   "cell_type": "code",
   "execution_count": 5,
   "metadata": {},
   "outputs": [],
   "source": [
    "#Let's remind ourselves of the histograms we created so we can loop through them \n",
    "#and create an array to loop through when we rebin. \n",
    "histograms = [\"met\", \"ht\", \"njets\", \"bjets\"]\n",
    "\n",
    "#Make sure this points to a directory you can print to!\n",
    "outdir = \"/home/users/mbryson/public_html/dump/WH/\""
   ]
  },
  {
   "cell_type": "code",
   "execution_count": 6,
   "metadata": {},
   "outputs": [
    {
     "name": "stdout",
     "output_type": "stream",
     "text": [
      "met\n",
      "ht\n",
      "njets\n",
      "bjets\n"
     ]
    },
    {
     "data": {
      "image/png": "[encoded data removed]",
      "text/plain": [
       "<Figure size 432x288 with 1 Axes>"
      ]
     },
     "metadata": {
      "needs_background": "light"
     },
     "output_type": "display_data"
    }
   ],
   "source": [
    "#Let's loop through these histograms and rebin! Remember to change the binning for both the\n",
    "#signal and background!!! Here I can also change the title of my plots!!\n",
    "for name in histograms:\n",
    "    print (name)\n",
    "    hists = output[name]\n",
    "    \n",
    "    if name == \"met\":\n",
    "        new_met_bins = hist.Bin('pt', r'MET', 26, 248, 1600)\n",
    "        hists = hists.rebin('pt', new_met_bins)\n",
    "        \n",
    "    if name == \"ht\":\n",
    "        new_ht_bins = hist.Bin('pt', r'HT', 25, 300, 2000)\n",
    "        hists = hists.rebin('pt', new_ht_bins)\n",
    "        \n",
    "    if name == \"njets\":\n",
    "        new_nj_bins = hist.Bin('multiplicity', r'nJets', 16, -0.5, 15.5)\n",
    "        hists = hists.rebin('multiplicity', new_nj_bins)\n",
    "        \n",
    "    if name == \"bjets\":\n",
    "        new_bj_bins = hist.Bin('multiplicity', r'nBJets', 7, -0.5, 6.5)\n",
    "        hists = hists.rebin('multiplicity', new_bj_bins)\n",
    "        \n",
    "    savefig(hists,outdir, name)\n",
    "    savefigshape(hists,outdir, name)\n",
    "#In these last two lines, I call those special histogram functions I made! Check your\n",
    "#output directory once this is done and all your pretty plots will be there!"
   ]
  },
  {
   "cell_type": "code",
   "execution_count": null,
   "metadata": {},
   "outputs": [],
   "source": []
  },
  {
   "cell_type": "code",
   "execution_count": null,
   "metadata": {},
   "outputs": [],
   "source": []
  }
 ],
 "metadata": {
  "kernelspec": {
   "display_name": "coffeaEnv",
   "language": "python",
   "name": "coffeaenv"
  },
  "language_info": {
   "codemirror_mode": {
    "name": "ipython",
    "version": 3
   },
   "file_extension": ".py",
   "mimetype": "text/x-python",
   "name": "python",
   "nbconvert_exporter": "python",
   "pygments_lexer": "ipython3",
   "version": "3.6.4"
  }
 },
 "nbformat": 4,
 "nbformat_minor": 2
}
